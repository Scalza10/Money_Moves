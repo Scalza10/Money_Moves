{
  "cells": [
    {
      "metadata": {
        "trusted": true
      },
      "cell_type": "code",
      "source": "def addNumbers():\n    #Open the file\n    inFile = open('numbers.txt', 'r')\n    \n    #Read the three numbers\n    num1 = int(inFile.readline())\n    num2 = int(inFile.readline())\n    num3 = int(inFile.readline())\n    \n    #close the file\n    inFile.close()\n    \n    #Add the three numbers.\n    total = num1 + num2 + num3\n    \n    #Display the numbers and their total.\n    print('The numbers are:', num1, num2, num3)\n    print('Their total is: ', total)\n    \n#Call the function\naddNumbers()",
      "execution_count": 2,
      "outputs": [
        {
          "output_type": "stream",
          "text": "The numbers are: 3 29 51\nTheir total is:  83\n",
          "name": "stdout"
        }
      ]
    },
    {
      "metadata": {
        "trusted": true
      },
      "cell_type": "code",
      "source": "def addNumbers2():\n    #Open the file\n    inFile = open('numbers.txt', 'r')\n    total = 0\n    #Read the three numbers\n    line = inFile.readline()\n    \n    while line != '':\n        \n        num = int(line)\n        total += num\n        line = inFile.readline()\n    \n    #close the file\n    inFile.close()\n    \n    \n    #Display the numbers and their total.\n    \n    print('Their total is: ', total)\n    \n#Call the function\naddNumbers2()",
      "execution_count": 15,
      "outputs": [
        {
          "output_type": "stream",
          "text": "Their total is:  83\n",
          "name": "stdout"
        }
      ]
    },
    {
      "metadata": {
        "trusted": true
      },
      "cell_type": "code",
      "source": "def addNumbers3():\n    #Open the file\n    inFile = open('numbers.txt', 'r')\n    total = 0\n    \n    #Read the three numbers    \n    for line in inFile:\n        total += int(line)\n    \n    #close the file\n    inFile.close()\n    \n    \n    #Display the numbers and their total.\n    \n    print('Their total is: ', total)\n    \n#Call the function\naddNumbers3()",
      "execution_count": 19,
      "outputs": [
        {
          "output_type": "stream",
          "text": "Their total is:  83\n",
          "name": "stdout"
        }
      ]
    },
    {
      "metadata": {
        "trusted": true
      },
      "cell_type": "code",
      "source": "def main():\n    #Get the name of the file.\n    filename = input('Enter a filename: ')\n    filenamerefined = filename + '.txt'\n    \n    try:\n        #Open the file.\n        infile = open(filenamerefined, 'r')\n        \n        #Read the file's contents.\n        contents = infile.read()\n        \n        #display the file's contents.\n        print(contents)\n        \n        #close the file\n        infile.close()\n        \n    except IOError:\n        print('An error has occurred trying to read')\n        print('the file', filename)\n        \nmain()",
      "execution_count": 25,
      "outputs": [
        {
          "output_type": "stream",
          "name": "stdout",
          "text": "Enter a filename: xd\nAn error has occurred trying to read\nthe file xd\n"
        }
      ]
    },
    {
      "metadata": {
        "trusted": true
      },
      "cell_type": "code",
      "source": "",
      "execution_count": null,
      "outputs": []
    }
  ],
  "metadata": {
    "kernelspec": {
      "name": "python36",
      "display_name": "Python 3.6",
      "language": "python"
    },
    "language_info": {
      "mimetype": "text/x-python",
      "nbconvert_exporter": "python",
      "name": "python",
      "pygments_lexer": "ipython3",
      "version": "3.6.6",
      "file_extension": ".py",
      "codemirror_mode": {
        "version": 3,
        "name": "ipython"
      }
    }
  },
  "nbformat": 4,
  "nbformat_minor": 2
}