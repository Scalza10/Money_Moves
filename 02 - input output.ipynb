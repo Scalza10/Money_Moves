{
  "cells": [
    {
      "metadata": {
        "trusted": true,
        "scrolled": true
      },
      "cell_type": "code",
      "source": "name = input('Please input a game title: ')",
      "execution_count": 24,
      "outputs": [
        {
          "output_type": "stream",
          "name": "stdout",
          "text": "Please input a game title: Fifa\n"
        }
      ]
    },
    {
      "metadata": {
        "trusted": true
      },
      "cell_type": "code",
      "source": "price = input('Please input the price for the game: ')",
      "execution_count": 25,
      "outputs": [
        {
          "output_type": "stream",
          "name": "stdout",
          "text": "Please input the price for the game: 59.99\n"
        }
      ]
    },
    {
      "metadata": {
        "trusted": true
      },
      "cell_type": "code",
      "source": "TAX = input('Please input the tax for your zone ')",
      "execution_count": 26,
      "outputs": [
        {
          "output_type": "stream",
          "name": "stdout",
          "text": "Please input the tax for your zone 6.5\n"
        }
      ]
    },
    {
      "metadata": {
        "trusted": true
      },
      "cell_type": "code",
      "source": "print(\"How much does \", name, \" cost?\")\nprint(\"It costs $\", price)",
      "execution_count": 27,
      "outputs": [
        {
          "output_type": "stream",
          "text": "How much does  Fifa  cost?\nIt costs $ 59.99\n",
          "name": "stdout"
        }
      ]
    },
    {
      "metadata": {
        "trusted": true
      },
      "cell_type": "code",
      "source": "print(\"How much does \", name, \" cost?\")\nprint(\"Subtotal: $\", price)\ntaxedPrice = float(price) * (float(TAX)/100)\nprint(\"Taxes: $\", str(taxedPrice))",
      "execution_count": 28,
      "outputs": [
        {
          "output_type": "stream",
          "text": "How much does  Fifa  cost?\nSubtotal: $ 59.99\nTaxes: $ 3.89935\n",
          "name": "stdout"
        }
      ]
    },
    {
      "metadata": {
        "trusted": true
      },
      "cell_type": "code",
      "source": "print(\"How much does \", name, \" cost?\")\nprint(\"Subtotal: $\", price)\ntaxedPrice = float(price) * (float(TAX)/100)\nprint(\"Taxes: $\", format(taxedPrice, '.2f'))\ntotal = float(price) + float(taxedPrice)\nprint(\"Total: $\" + format(total,'.2f'))",
      "execution_count": 30,
      "outputs": [
        {
          "output_type": "stream",
          "text": "How much does  Fifa  cost?\nSubtotal: $ 59.99\nTaxes: $ 3.90\nTotal: $63.89\n",
          "name": "stdout"
        }
      ]
    },
    {
      "metadata": {
        "trusted": true
      },
      "cell_type": "code",
      "source": "thousandCopies = total * 1000\nprint(\"Price for 1k copies sold: $\" + format(thousandCopies, '.2f'))",
      "execution_count": 33,
      "outputs": [
        {
          "output_type": "error",
          "ename": "ValueError",
          "evalue": "Invalid format specifier",
          "traceback": [
            "\u001b[0;31m---------------------------------------------------------------------------\u001b[0m",
            "\u001b[0;31mValueError\u001b[0m                                Traceback (most recent call last)",
            "\u001b[0;32m<ipython-input-33-558d5e2b0d90>\u001b[0m in \u001b[0;36m<module>\u001b[0;34m\u001b[0m\n\u001b[1;32m      1\u001b[0m \u001b[0mthousandCopies\u001b[0m \u001b[0;34m=\u001b[0m \u001b[0mtotal\u001b[0m \u001b[0;34m*\u001b[0m \u001b[0;36m1000\u001b[0m\u001b[0;34m\u001b[0m\u001b[0m\n\u001b[0;32m----> 2\u001b[0;31m \u001b[0mprint\u001b[0m\u001b[0;34m(\u001b[0m\u001b[0;34m\"Price for 1k copies sold: $\"\u001b[0m \u001b[0;34m+\u001b[0m \u001b[0mformat\u001b[0m\u001b[0;34m(\u001b[0m\u001b[0mthousandCopies\u001b[0m\u001b[0;34m,\u001b[0m \u001b[0;34m'.2df'\u001b[0m\u001b[0;34m)\u001b[0m\u001b[0;34m)\u001b[0m\u001b[0;34m\u001b[0m\u001b[0m\n\u001b[0m",
            "\u001b[0;31mValueError\u001b[0m: Invalid format specifier"
          ]
        }
      ]
    },
    {
      "metadata": {
        "trusted": true
      },
      "cell_type": "code",
      "source": "",
      "execution_count": null,
      "outputs": []
    }
  ],
  "metadata": {
    "kernelspec": {
      "name": "python36",
      "display_name": "Python 3.6",
      "language": "python"
    },
    "language_info": {
      "mimetype": "text/x-python",
      "nbconvert_exporter": "python",
      "name": "python",
      "pygments_lexer": "ipython3",
      "version": "3.6.6",
      "file_extension": ".py",
      "codemirror_mode": {
        "version": 3,
        "name": "ipython"
      }
    }
  },
  "nbformat": 4,
  "nbformat_minor": 2
}